{
 "cells": [
  {
   "cell_type": "markdown",
   "metadata": {
    "id": "V7cXfz0cao0H"
   },
   "source": [
    "# Assignment 6\n",
    "\n",
    "Name 1: Sharmila Upadhyaya  <br/>\n",
    "Student id 1: 7008858  <br/>\n",
    "Email 1: shup00001@stud.uni-saarland.de  <br/>\n",
    "\n",
    "\n",
    "Name 2: Isidora Jeknic <br/>\n",
    "Student id 2: 7008924<br/>\n",
    "Email 2: isje00001@stud.uni-saarland.de  <br/> \n",
    "\n",
    "**Instructions:** Read each question carefully. <br/>\n",
    "Make sure you appropriately comment your code wherever required. Your final submission should contain the completed Notebook and the Python file for exercise 3. There is no need to submit the data files. <br/>\n",
    "Upload the zipped folder in Teams. Make sure to click on \"Turn-in\" after your upload your submission, otherwise the assignment will not be considered as submitted. Only one from the group should make the submisssion.\n",
    "\n",
    "---"
   ]
  },
  {
   "cell_type": "markdown",
   "metadata": {
    "id": "Yi9e8HHYbq7T"
   },
   "source": [
    "## Exercise 1: MLE & MAP  (3 points)\n",
    "\n",
    "Here is a nice [article](http://pages.cs.wisc.edu/~jerryzhu/cs838/LM.pdf) that explains the difference between MLE and MAP based estimation for language models. \n",
    "\n",
    "**1.1 (1 point)**\n",
    "\n",
    "* Is a MAP estimator always better than MLE? Why is MAP preferred over MLE (explain in context of language modelling)? (0.5 points)\n",
    "\n",
    "* Some smoothing methods use a MAP estimation of the model parameters. One of these is floor discounting, as described on Slide 44 in Chapter 5. <br/>\n",
    "Write the formula for deriving the MAP estimate and the resultant formula for floor discounting. What underlying distribution does the language model assume? What is assumed as the prior? (0.5 pts)\n",
    "\n",
    "**1.2 (2 points)**\n",
    "\n",
    "Consider the sentences\n",
    "\n",
    "`s1 = They don't know that we know they know!`\n",
    "\n",
    "`s2 = Don't we know that?`\n",
    "\n",
    "* Assume punctuation removal and lowercasing as basic preprocessing steps. Formulate a bigram model (use a circular corpus) on `s1`, note down the conditional probabilities, and use them to determine the probability of `s2`. (0.5 pt)\n",
    "* Now use floor discounting and form similar bigram models with $\\epsilon=1$ and $\\epsilon=0.5$, note down the respective bigram probabilities, and use them to determine the probability of `s2`. (1 pt) \n",
    "* What do you observe? How does the value of $\\epsilon$ influence the MAP prior in both cases? (0.5 pts)"
   ]
  },
  {
   "cell_type": "markdown",
   "metadata": {},
   "source": [
    "## Answer\n",
    "\n",
    "# 1.1 #\n",
    "<br>\n",
    "- Not necessarily, it depends on the task. <br> MLE has many issues, including data sparseness. The counts of unseen words will be 0, making the probability of the entire sentence/sequence that it is found in 0, which tremendously skewes the probability distribution. With MAP, this is avoided by assigning some probability mass from the higher counts to the zero counts.\n",
    "- MAP formula:  \n",
    "$\\underset{\\theta}{\\operatorname{argmax}} ∑_ilog{P(w_i|θ)} + \\log{P(θ)}$\n",
    "<!-- $\\theta_w^{MAP} = \\frac{C(w) + \\alpha - 1}{|V| + \\sum_i^V(\\alpha - 1)}$ -->\n",
    "\n",
    "- Add-epsilon formula:  \n",
    "$P(w|h) = \\frac{C(w, h) + \\epsilon}{C(h) + \\epsilon V}$  \n",
    "- The model assumes an underlying multinomial distribution with a Dirichlet prior."
   ]
  },
  {
   "cell_type": "markdown",
   "metadata": {},
   "source": [
    "\n",
    "# 1.2 #"
   ]
  },
  {
   "cell_type": "code",
   "execution_count": 217,
   "metadata": {},
   "outputs": [],
   "source": [
    "s1 = \"They don't know that we know they know!\"\n",
    "s2 = \"Don't we know that?\"\n",
    "s1_prep = preprocess(s1)\n",
    "s2_prep = preprocess(s2)\n",
    "bigrams = make_circ_bigrams(s1_prep)\n",
    "vocab = set(s1_prep + s2_prep) "
   ]
  },
  {
   "cell_type": "code",
   "execution_count": 218,
   "metadata": {},
   "outputs": [],
   "source": [
    "from collections import Counter\n",
    "\n",
    "def preprocess(s):\n",
    "    new_s = []\n",
    "    for char in s:\n",
    "        if char.isspace() or char.isalnum():\n",
    "            new_s.append(char.lower())   \n",
    "        else:\n",
    "            pass\n",
    "        \n",
    "    new_s_str = \"\".join(new_s)\n",
    "    \n",
    "    return new_s_str.split()\n",
    "\n",
    "def make_circ_bigrams(tokens):\n",
    "    bigs = []\n",
    "    for i in range(len(tokens)-1):\n",
    "        bigs.append((tokens[i], tokens[i+1]))\n",
    "    bigs += [(tokens[-1], tokens[0])]\n",
    "    return bigs\n",
    "\n",
    "\n",
    "def calculate_cond_probs(s, norm_bigs=Counter(bigrams), norm_unis=Counter(s1_prep)):\n",
    "    \n",
    "    s_cond_probs = {}\n",
    "    # P(B|A) = P(A,B) / P(A)\n",
    "    for el in s:\n",
    "        # el = (A,B)\n",
    "        try:\n",
    "            joint_p_a_b = norm_bigs[el]\n",
    "            prob_a = norm_unis[el[0]]\n",
    "        except:\n",
    "            joint_p_a_b = 0\n",
    "            prob_a = 0\n",
    "        try:\n",
    "            s_cond_probs[(el[1], el[0])] = joint_p_a_b / prob_a\n",
    "        except ZeroDivisionError:\n",
    "            s_cond_probs[(el[1], el[0])] = 0\n",
    "            \n",
    "    return s_cond_probs"
   ]
  },
  {
   "cell_type": "code",
   "execution_count": 219,
   "metadata": {},
   "outputs": [],
   "source": [
    "# norm_bigs = {k:v/len(bigrams) for k,v in Counter(bigrams).items()}\n",
    "# norm_unis = {k:v/len(s1_prep) for k,v in Counter(s1_prep).items()}\n",
    "cond_probs = calculate_cond_probs(bigrams)"
   ]
  },
  {
   "cell_type": "code",
   "execution_count": 220,
   "metadata": {},
   "outputs": [
    {
     "data": {
      "text/plain": [
       "{('dont', 'they'): 0.5,\n",
       " ('know', 'dont'): 1.0,\n",
       " ('that', 'know'): 0.3333333333333333,\n",
       " ('we', 'that'): 1.0,\n",
       " ('know', 'we'): 1.0,\n",
       " ('they', 'know'): 0.6666666666666666,\n",
       " ('know', 'they'): 0.5}"
      ]
     },
     "execution_count": 220,
     "metadata": {},
     "output_type": "execute_result"
    }
   ],
   "source": [
    "cond_probs"
   ]
  },
  {
   "cell_type": "code",
   "execution_count": 221,
   "metadata": {},
   "outputs": [],
   "source": [
    "\n",
    "s2_prep = make_circ_bigrams(preprocess(s2))"
   ]
  },
  {
   "cell_type": "code",
   "execution_count": 222,
   "metadata": {},
   "outputs": [],
   "source": [
    "s2_cond_probs = calculate_cond_probs(s2_prep)"
   ]
  },
  {
   "cell_type": "code",
   "execution_count": 223,
   "metadata": {},
   "outputs": [
    {
     "data": {
      "text/plain": [
       "{('we', 'dont'): 0.0,\n",
       " ('know', 'we'): 1.0,\n",
       " ('that', 'know'): 0.3333333333333333,\n",
       " ('dont', 'that'): 0.0}"
      ]
     },
     "execution_count": 223,
     "metadata": {},
     "output_type": "execute_result"
    }
   ],
   "source": [
    "s2_cond_probs"
   ]
  },
  {
   "cell_type": "markdown",
   "metadata": {},
   "source": [
    "So, pconditional probability of s2 using s1 would be 0"
   ]
  },
  {
   "cell_type": "code",
   "execution_count": 224,
   "metadata": {},
   "outputs": [],
   "source": [
    "# add-epsilon smoothing for sentence 2\n",
    "\n",
    "# P(B|A) =\n",
    "# (C(A,B) + e) / (C(A) + eV)\n",
    "\n",
    "\n",
    "e = 0.5\n",
    "add_eps = {}\n",
    "for el in s2_prep:\n",
    "    top = Counter(bigrams)[el] + e\n",
    "    bottom = Counter(s1_prep)[el[0]] + e*len(vocab)\n",
    "    add_eps[(el[1], el[0])] = top/bottom"
   ]
  },
  {
   "cell_type": "code",
   "execution_count": 225,
   "metadata": {},
   "outputs": [
    {
     "name": "stdout",
     "output_type": "stream",
     "text": [
      "Conditional probability of each pair: \n",
      "{('we', 'dont'): 0.14285714285714285, ('know', 'we'): 0.42857142857142855, ('that', 'know'): 0.2727272727272727, ('dont', 'that'): 0.14285714285714285}\n"
     ]
    }
   ],
   "source": [
    "\n",
    "print(\"Conditional probability of each pair: \")\n",
    "print(add_eps)\n"
   ]
  },
  {
   "cell_type": "code",
   "execution_count": 226,
   "metadata": {},
   "outputs": [
    {
     "name": "stdout",
     "output_type": "stream",
     "text": [
      "Conditional probability of sentence: \n",
      "0.0023853697323085073\n"
     ]
    }
   ],
   "source": [
    "print(\"Conditional probability of sentence: \")\n",
    "result = 1\n",
    "for k,v in add_eps.items():\n",
    "    result *= v\n",
    "    \n",
    "print(result)"
   ]
  },
  {
   "cell_type": "code",
   "execution_count": 227,
   "metadata": {},
   "outputs": [],
   "source": [
    "# estimating s2 probabilities with add-epsilon smoothing\n",
    "e = 1\n",
    "add_eps_2 = {}\n",
    "for el in s2_prep:\n",
    "    top = Counter(bigrams)[el] + e\n",
    "    bottom = Counter(s1_prep)[el[0]] + e*len(vocab)\n",
    "    add_eps_2[(el[1], el[0])] = top/bottom"
   ]
  },
  {
   "cell_type": "code",
   "execution_count": 228,
   "metadata": {},
   "outputs": [
    {
     "name": "stdout",
     "output_type": "stream",
     "text": [
      "Conditional probability of each pair: \n",
      "{('we', 'dont'): 0.16666666666666666, ('know', 'we'): 0.3333333333333333, ('that', 'know'): 0.25, ('dont', 'that'): 0.16666666666666666}\n"
     ]
    }
   ],
   "source": [
    "\n",
    "print(\"Conditional probability of each pair: \")\n",
    "print(add_eps_2)\n"
   ]
  },
  {
   "cell_type": "code",
   "execution_count": 229,
   "metadata": {},
   "outputs": [
    {
     "name": "stdout",
     "output_type": "stream",
     "text": [
      "Conditional probability of sentence: \n",
      "0.0023148148148148147\n"
     ]
    }
   ],
   "source": [
    "print(\"Conditional probability of sentence: \")\n",
    "result = 1\n",
    "for k,v in add_eps_2.items():\n",
    "    result *= v\n",
    "    \n",
    "print(result)"
   ]
  },
  {
   "cell_type": "markdown",
   "metadata": {},
   "source": [
    "- Greater $\\epsilon$ value makes for a more evenly distributed probability mass, i.e. creates a smoother distribution."
   ]
  },
  {
   "cell_type": "markdown",
   "metadata": {
    "id": "0jjZwN7YbrMM"
   },
   "source": [
    "## Exercise 2: Good-Turing (3 points)\n",
    "\n",
    "#### 2.1: Estimate of unknown words (0.5 points)\n",
    "\n",
    "Imagine that you're given a split into (1) training data and (2) test data. They come from the same distribution but you're forbidden to make any other splits.\n",
    "\n",
    "- What is the MLE estimate of frequency of unseen words on (2)?\n",
    "- What other, better, strategy could be employed to estimate frequency of unseen words from (1) on (2)?\n",
    "\n",
    "#### 2.2: Data split (0.5 points)\n",
    "\n",
    "- Usually when preparing a new model, we split the dataset to (1) training data, (2) held-out data and (3) test data. Comment briefly on what each part of the dataset is used for and especially on the distinction between (1) and (2).\n",
    "\n",
    "#### 2.3: Good-Turing Formula (1 point)\n",
    "\n",
    "- What is the formula for updated counts for words of frequency $k \\ne 0$?\n",
    "- What is the Good-Turing formula for estimating unseen words, $k=0$?\n",
    "- Given the updated counts $c^*_k$, how does Good-Turing estimate relate to language model smoothing? How do you define the smoothed distribution?\n",
    "- Is there any systematic relationship between the original counts and the new counts? e.g. for large enough $k$, $c^*_k \\ge k$. \n",
    "- Compute and compare the absolute frequencies and Good-Turing estimates for the words `three` and `syringes` in the following text.\n",
    "\n",
    "```\n",
    "thirty - three thousand three hundred and thirty silver syringes which cost three hundred and thirty - two crowns . .\n",
    "```\n",
    "\n",
    "#### 2.4: Frequent buckets (1 point)\n",
    "\n",
    "- In your own words, what is the issue with Good-Turing when estimating the new counts for the very frequent words?\n",
    "- See page 5, paragraph 3 of [Good‐Turing Smoothing Without Tears](http://deanfoster.net/teaching/data_mining/good_turing.pdf) by Gale and Sampson (1995). What solution do they propose?"
   ]
  },
  {
   "cell_type": "markdown",
   "metadata": {},
   "source": [
    "## **Answer**\n",
    "\n",
    "2.1  \n",
    "- MLE would estimate the frequency of unseen words to be 0.\n",
    "- We could use the count of words that have occurred once (=1) in the train set to generalize the frequency of unseen words in the test set by taking the total probability mass taken up by these one-off words and distributing it accross the unseen words from the test corpus.\n",
    "\n",
    "2.2  \n",
    "Training data is used for initial estimation of probabilities; held-out data is taken from the training data and is used for validation of different models; test data is used to test model performance is by utilizing the parameters established with the train and held-out sets. \n",
    "\n",
    "\n",
    "2.3  \n",
    "- $c^* = \\frac{(c+1)N_{c+1}}{N_c}$\n",
    "- $c^* = \\frac{N_1}{N}$ \n",
    "- Good-Turing counts are what would be considered smoothed counts; however, proper smoothing has to be employed for large $k$ values (see 2.4).\n",
    "- If $k$ is large enough, $c_k^* = c_k$, which is a fundamental issue with this technique.\n",
    "\n"
   ]
  },
  {
   "cell_type": "code",
   "execution_count": 230,
   "metadata": {},
   "outputs": [
    {
     "name": "stdout",
     "output_type": "stream",
     "text": [
      "thirty \t\t 3 \t\t 0.14285714285714285\n",
      "three \t\t 3 \t\t 0.14285714285714285\n",
      "- \t\t 2 \t\t 0.09523809523809523\n",
      "hundred \t\t 2 \t\t 0.09523809523809523\n",
      "and \t\t 2 \t\t 0.09523809523809523\n",
      ". \t\t 2 \t\t 0.09523809523809523\n",
      "thousand \t\t 1 \t\t 0.047619047619047616\n",
      "silver \t\t 1 \t\t 0.047619047619047616\n",
      "syringes \t\t 1 \t\t 0.047619047619047616\n",
      "which \t\t 1 \t\t 0.047619047619047616\n",
      "cost \t\t 1 \t\t 0.047619047619047616\n",
      "two \t\t 1 \t\t 0.047619047619047616\n",
      "crowns \t\t 1 \t\t 0.047619047619047616\n"
     ]
    }
   ],
   "source": [
    "from collections import Counter\n",
    "text = 'thirty - three thousand three hundred and thirty silver syringes which cost three hundred and thirty - two crowns . .'\n",
    "split_text = text.split()\n",
    "count = sorted(Counter(split_text).items(), key=lambda item: item[1], reverse=True)\n",
    "abs_freq = [(w, v/len(split_text)) for w,v in count]\n",
    "for i in range(len(count)):\n",
    "    print(count[i][0], '\\t\\t', count[i][1], '\\t\\t', abs_freq[i][1])"
   ]
  },
  {
   "cell_type": "markdown",
   "metadata": {},
   "source": [
    "- syringes  \n",
    "$N = 21$  \n",
    "$c_{syringes} = 1$  \n",
    "$N_1 = 7$  \n",
    "$N_2 = 4$  \n",
    "$c^*_{syringes} = \\frac{(c_{syringes}+1) N_{c_{syringes}+1}}{N_{c_{syringes}}} = \\frac{(1+1) 4}{7} = \\frac{8}{7}$   \n",
    " \n",
    "<!-- $P^*GT_{syringes} = \\frac{\\frac{8}{7}}{21} = 0.054$ -->\n",
    "\n",
    "- 'three'  \n",
    "$N = 21$  \n",
    "$N_1 = 7$  \n",
    "$c_{three} = 3$  \n",
    "$N_3 = 2$  \n",
    "$N_4 = 0$  \n",
    "Since k is large,\n",
    "$c^*_{three} = \\frac{(3+1) N_4}{N_3}$\n",
    "But, because of largest value of k, it is given that $c_k^* = c_k$\n",
    "$= 3$\n",
    "\n",
    "\n",
    "2.4  \n",
    "- The issues with reestimating the counts with Good-Turing smoothing is that, for the highly frequent words, there won't be a $N_{(c+1)}$ and the updated counts would be 0.\n",
    "- They propose to \"estimate the expected $N_r$ by the density of $N_r$ for large $r$\" ($r = k$) by averaging the non-zero $N_k$ that surround the zero $N_k$, order by $k$ and take $q$, $k$, and $t$ which are subsequent values of indices; they propose applying the formula $N_k^* = \\frac{N_k}{0.5(t−q)}$\n",
    "\n"
   ]
  },
  {
   "cell_type": "markdown",
   "metadata": {
    "id": "HztKiKEpbrXt"
   },
   "source": [
    "## Exercise 3: Cross-Validation (4 points)\n",
    "\n",
    "<!-- ### 3.0 Bible studies -->\n",
    "\n",
    "Imagine you are a linguist in the remote future who just rediscovered a book called \"Bible\". To your disappointment the book is obviously incomplete; all the pages between Genesis and the Apocalypse are torn out, maybe by some late Christian cult. Since you don't know the language of the book you want to build a first language model that you can use if you find any of the lost parts. You digitize the book with your state-of-the art portable digitizer, and then load it into one of your Python 10.0 notebooks.\n",
    "\n",
    "**3.1 Baseline (0.5 points)**\n",
    "\n",
    "* The two corpora are in the text files `genesis.txt` and `apocalypsis.txt`. Load them into the notebook, preprocess them by removing all non-alphabetical characters, and then concatenate them into a single corpus. Split the corpus into a train and a test set, with the test set comprising the _last_ 20% of the corpus. You may use your code from previous exercises for this. (0.25 points)\n"
   ]
  },
  {
   "cell_type": "code",
   "execution_count": 231,
   "metadata": {
    "id": "rDVzYp5zKSVC"
   },
   "outputs": [],
   "source": [
    "# Load data\n",
    "from importlib import reload\n",
    "import exercise_3\n",
    "from pathlib import Path\n",
    "exercise_3 = reload(exercise_3)\n",
    "\n",
    "genesis_text = Path(\"data/genesis.txt\").open('r').read()\n",
    "apocalypsis_text = Path(\"data/apocalypsis.txt\").open('r').read()\n",
    "\n",
    "# TODO: preprocess\n",
    "genesis_preprocessed = exercise_3.preprocess(genesis_text)\n",
    "apocalypsis_preprocessed = exercise_3.preprocess(apocalypsis_text)\n",
    "\n",
    "# TODO: concatenate\n",
    "corpus = genesis_preprocessed + apocalypsis_preprocessed\n",
    "\n",
    "# # TODO: train, test split\n",
    "train, test = exercise_3.train_test_split_data(corpus, test_size=0.3)"
   ]
  },
  {
   "cell_type": "markdown",
   "metadata": {
    "id": "Uk5YNPJ_Ky0s"
   },
   "source": [
    "* Using your language model class from the previous assignment, estimate a trigram language model on the train set and report perplexity on the test. Use $\\alpha=1$. Does this represent an unbiased estimate of the model's capacity? (0.25 points)"
   ]
  },
  {
   "cell_type": "code",
   "execution_count": 232,
   "metadata": {
    "id": "0NsFQMfyPcl1",
    "scrolled": true
   },
   "outputs": [
    {
     "name": "stdout",
     "output_type": "stream",
     "text": [
      "Average Perplexity for k fold validation will be: 3638.518526083138\n"
     ]
    }
   ],
   "source": [
    "import lm\n",
    "\n",
    "lm = reload(lm)\n",
    "\n",
    "# TODO: trigram LM\n",
    "LM = lm.LanguageModel(train, test, N=3, alpha=1)\n",
    "pp = LM.perplexity()\n",
    "print(\"Average Perplexity for k fold validation will be: \" + str(pp[2]))"
   ]
  },
  {
   "cell_type": "markdown",
   "metadata": {
    "id": "z9uIbyb7LoYT"
   },
   "source": [
    "**3.2 Average Perplexity (2 points)**\n",
    "\n",
    "* Since you want to get an unbiased estimate of your model's capacity, you decide to apply k-fold cross-validation on your corpus. To do this, implement the function `k_validation_folds` in `exercise_2.py`. Use it to split your corpus into $k=5$ cross-validation folds, and make sure that the folds are of the same size. (1 point)\n",
    "\n",
    "* Now, estimate a trigram language model on each of the CV folds. You may again use your class from the previous assignment, and average over all perplexity scores. Does the average score differ from the one obtained in 3.2, and why? (1 point)"
   ]
  },
  {
   "cell_type": "code",
   "execution_count": 233,
   "metadata": {
    "id": "5d2o5fTiMo13"
   },
   "outputs": [],
   "source": [
    "# 10-fold cross-validation\n",
    "cv_folds = exercise_3.k_validation_folds(corpus, k_folds=5)\n",
    "\n",
    "assert all([len(cv_fold) for cv_fold in cv_folds])\n",
    "# TODO: estimate 10 trigram LMs!\n",
    "pps = []\n",
    "for i in range(0, len(cv_folds)):\n",
    "    test = cv_folds[i]\n",
    "    train = cv_folds[i-1:i] + cv_folds[i+1:] if i != 0 else cv_folds[i+1:]\n",
    "    train = [item for sublist in train for item in sublist]\n",
    "    LM = lm.LanguageModel(train, test, N=3, alpha=1)\n",
    "    pp = LM.perplexity()\n",
    "    pps.append(pp[2])"
   ]
  },
  {
   "cell_type": "code",
   "execution_count": 234,
   "metadata": {},
   "outputs": [
    {
     "name": "stdout",
     "output_type": "stream",
     "text": [
      "Average Perplexity for k fold validation will be: 2868.1189805624817\n"
     ]
    }
   ],
   "source": [
    "print(\"Average Perplexity for k fold validation will be: \" + str(sum(pps)/len(pps)))"
   ]
  },
  {
   "cell_type": "markdown",
   "metadata": {},
   "source": [
    "# 3.2 Answer #\n",
    "\n",
    "The average perplexity is lower than the one done in 3.1 due to cross fold validation. As doing the train test split, the portion of train data might not be representative and the test perplexity got higher. However, in cross kfold, using each 4th portion or 80 % of train data each time so that we tried to remove the biasness caused by the split of data. Hence, result is much more better."
   ]
  },
  {
   "cell_type": "markdown",
   "metadata": {
    "id": "kRakHZmFNALS"
   },
   "source": [
    "**3.3 Hyperparameter Tuning (1.5 points)**\n",
    "\n",
    "* As you don't know anything about the language the book is written in, you have to find the best hyperparemter $\\alpha$ for your model by a brute-force search (recall how you did this in the last assignment). Since you know from 3.2 that your data is not balanced, you decide to use only the averaged perplexity score (derived from $k=10$ CV folds) for this. Do so by completing the loop in the code cell below. Then, plot the obtained perplexity scores vs. $\\alpha$. You do so by reusing the respective function from Assignment 5. (1 point)\n",
    "\n",
    "(**Hint:** This could take a while.)"
   ]
  },
  {
   "cell_type": "code",
   "execution_count": 235,
   "metadata": {
    "id": "-ada-400O8kO"
   },
   "outputs": [
    {
     "name": "stdout",
     "output_type": "stream",
     "text": [
      "Plot for trigram model:\n"
     ]
    },
    {
     "data": {
      "image/png": "[encoded data removed]",
      "text/plain": [
       "<Figure size 800x800 with 1 Axes>"
      ]
     },
     "metadata": {
      "needs_background": "light"
     },
     "output_type": "display_data"
    }
   ],
   "source": [
    "# hyperparamter tuning, CV\n",
    "alphas = [x*0.01 for x in range(1,101)]\n",
    "pps = []\n",
    "for alpha in alphas:\n",
    "    pps_each = []\n",
    "    for i in range(len(cv_folds)):\n",
    "        test = cv_folds[i]\n",
    "        train = cv_folds[i-1:i] + cv_folds[i+1:] if i != 0 else cv_folds[i+1:]\n",
    "        train = [item for sublist in train for item in sublist]\n",
    "        LM = lm.LanguageModel(train, test, N=3, alpha=alpha)\n",
    "        pp = LM.perplexity()\n",
    "        pps_each.append(pp[2])\n",
    "    pps.append(sum(pps_each)/len(pps_each))\n",
    "    \n",
    "print(\"Plot for trigram model:\")\n",
    "exercise_3.plot_pp_vs_alpha(pps, alphas = alphas)"
   ]
  },
  {
   "cell_type": "markdown",
   "metadata": {
    "id": "IGq72SKNP-tb"
   },
   "source": [
    "* Repeat the tuning process for unigram and bigram language models. Does your estimate of $\\alpha$ differ? Why? (0.5 points)"
   ]
  },
  {
   "cell_type": "code",
   "execution_count": 236,
   "metadata": {
    "id": "4as-q5FJP9wL",
    "scrolled": false
   },
   "outputs": [
    {
     "name": "stdout",
     "output_type": "stream",
     "text": [
      "Plot for unigram model:\n"
     ]
    },
    {
     "data": {
      "image/png": "[encoded data removed]",
      "text/plain": [
       "<Figure size 800x800 with 1 Axes>"
      ]
     },
     "metadata": {
      "needs_background": "light"
     },
     "output_type": "display_data"
    },
    {
     "name": "stdout",
     "output_type": "stream",
     "text": [
      "Plot for bigram model:\n"
     ]
    },
    {
     "data": {
      "image/png": "[encoded data removed]",
      "text/plain": [
       "<Figure size 800x800 with 1 Axes>"
      ]
     },
     "metadata": {
      "needs_background": "light"
     },
     "output_type": "display_data"
    }
   ],
   "source": [
    "# hyperparamter tuning, bigram + trigram\n",
    "# hyperparamter tuning, CV\n",
    "alphas = [x*0.01 for x in range(1,101)]\n",
    "pps_unigram = []\n",
    "pps_bigram = []\n",
    "for alpha in alphas:\n",
    "    pps_each_unigram = []\n",
    "    pps_each_bigram = []\n",
    "    for i in range(len(cv_folds)):\n",
    "        test = cv_folds[i]\n",
    "        train = cv_folds[i-1:i] + cv_folds[i+1:] if i != 0 else cv_folds[i+1:]\n",
    "        train = [item for sublist in train for item in sublist]\n",
    "        LM = lm.LanguageModel(train, test, N=3, alpha=alpha)\n",
    "        pp = LM.perplexity()\n",
    "        pps_each_unigram.append(pp[0])\n",
    "        pps_each_bigram.append(pp[1])\n",
    "    pps_unigram.append(sum(pps_each_unigram)/len(pps_each))\n",
    "    pps_bigram.append(sum(pps_each_bigram)/len(pps_each))\n",
    "print(\"Plot for unigram model:\")\n",
    "exercise_3.plot_pp_vs_alpha(pps_unigram, alphas = alphas)\n",
    "print(\"Plot for bigram model:\")\n",
    "exercise_3.plot_pp_vs_alpha(pps_bigram, alphas = alphas)"
   ]
  },
  {
   "cell_type": "markdown",
   "metadata": {},
   "source": [
    "# 3.3 Answer #\n",
    "\n",
    "In above observation, perplexity increases with alpha for bigram model which totally depends upon the corpus and the amount of unseen and seen bigrams. Hence, for bigram model we will be taking lower alpha value to get optimum result. However, for unigram perplexity decreases with increase in alpha. Hence, we will take higher alpha value."
   ]
  },
  {
   "cell_type": "code",
   "execution_count": null,
   "metadata": {},
   "outputs": [],
   "source": []
  }
 ],
 "metadata": {
  "colab": {
   "collapsed_sections": [],
   "name": "Assignment6.ipynb",
   "provenance": []
  },
  "kernelspec": {
   "display_name": "Python 3",
   "language": "python",
   "name": "python3"
  },
  "language_info": {
   "codemirror_mode": {
    "name": "ipython",
    "version": 3
   },
   "file_extension": ".py",
   "mimetype": "text/x-python",
   "name": "python",
   "nbconvert_exporter": "python",
   "pygments_lexer": "ipython3",
   "version": "3.8.5"
  }
 },
 "nbformat": 4,
 "nbformat_minor": 1
}
